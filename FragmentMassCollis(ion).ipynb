{
 "cells": [
  {
   "cell_type": "code",
   "execution_count": 1,
   "id": "bf4be6b6",
   "metadata": {},
   "outputs": [],
   "source": [
    "# Native\n",
    "import sys\n",
    "from itertools import combinations, chain\n",
    "\n",
    "# External general\n",
    "from tqdm import tqdm\n",
    "import pandas as pd\n",
    "\n",
    "# Proteomics imports\n",
    "from unimod_mapper import UnimodMapper\n",
    "from pyteomics.mass.mass import std_aa_mass"
   ]
  },
  {
   "cell_type": "code",
   "execution_count": 2,
   "id": "05ffffc7",
   "metadata": {},
   "outputs": [
    {
     "name": "stderr",
     "output_type": "stream",
     "text": [
      "2022-05-25 14:47:50.207 | DEBUG    | unimod_mapper.unimod_mapper:_parseXML:496 - No usermod.xml file found. Expected at C:\\Users\\robbin\\anaconda3\\envs\\py39\\lib\\site-packages\\unimod_mapper\\usermod.xml\n",
      "2022-05-25 14:47:50.209 | DEBUG    | unimod_mapper.unimod_mapper:_parseXML:439 - Parsing mods file (C:\\Users\\robbin\\anaconda3\\envs\\py39\\lib\\site-packages\\unimod_mapper\\unimod.xml)\n"
     ]
    }
   ],
   "source": [
    "# Get list of all unimod modifications\n",
    "unimod = UnimodMapper()\n",
    "modifications = unimod.data_list\n",
    "\n",
    "# Define type of mods to include\n",
    "types_mod_include = set((\n",
    "    \"O-linked glycosylation\",\n",
    "    \"Post-translational\",\n",
    "    \"Chemical derivative\",\n",
    "    \"Isotopic label\",\n",
    "    #\"AA substitution\",\n",
    "    \"Other\",\n",
    "    \"Pre-translational\",\n",
    "    \"NoMod\",\n",
    "    \"Multiple\"\n",
    "))"
   ]
  },
  {
   "cell_type": "code",
   "execution_count": 3,
   "id": "164b13c6",
   "metadata": {},
   "outputs": [],
   "source": [
    "# Create a dictionary that contains a mapping between AA and all modifications\n",
    "\n",
    "# aa_to_modifications[{AA}] = [ [unimodID,unimodName,monoisotopicmass,modificationType] , ... ]\n",
    "aa_to_modifications = {}\n",
    "\n",
    "for mod in modifications:\n",
    "    for loc in mod[\"specificity\"]:\n",
    "        # loc[0] == AA and loc[1] == type of modification (e.g., chemical derivative)\n",
    "        if loc[0] in aa_to_modifications.keys():\n",
    "            aa_to_modifications[loc[0]].append([mod[\"unimodID\"],mod[\"unimodname\"],mod[\"mono_mass\"],loc[1]])\n",
    "        else:\n",
    "            aa_to_modifications[loc[0]] = [[mod[\"unimodID\"],mod[\"unimodname\"],mod[\"mono_mass\"],loc[1]]]"
   ]
  },
  {
   "cell_type": "code",
   "execution_count": 4,
   "id": "9f2936ec",
   "metadata": {
    "scrolled": false
   },
   "outputs": [
    {
     "name": "stdout",
     "output_type": "stream",
     "text": [
      "Unable to analyze amino acid: J, no modifications found in unimod\n",
      "Unable to analyze amino acid: O, no modifications found in unimod\n"
     ]
    }
   ],
   "source": [
    "# List containing all the fragment ion and its monoisotopic mass\n",
    "# [ [aminoacid+modification, monoisotopicMass] , ... ]\n",
    "list_collision_possibility = []\n",
    "\n",
    "for aa in std_aa_mass.keys():\n",
    "    # O and J are not in unimod ...\n",
    "    try:\n",
    "        aa_mods = aa_to_modifications[aa]            \n",
    "    except KeyError:\n",
    "        print(f\"Unable to analyze amino acid: {aa}, no modifications found in unimod\")\n",
    "        continue\n",
    "    \n",
    "    for modification in aa_mods:\n",
    "        # Filter on modification type\n",
    "        if modification[3] not in types_mod_include:\n",
    "            continue\n",
    "        # Filter on modifications that remove the actual amino acid + some extra\n",
    "        if std_aa_mass[aa]+modification[2] < 0.0:\n",
    "            continue\n",
    "            \n",
    "        # Write non-modified amino acids differently        \n",
    "        if modification[3] == \"NoMod\":\n",
    "            list_collision_possibility.append([f\"{aa}\",std_aa_mass[aa]+modification[2]])\n",
    "        else:\n",
    "            list_collision_possibility.append([f\"{aa}[UNIMOD:{modification[0]}]\",std_aa_mass[aa]+modification[2]])"
   ]
  },
  {
   "cell_type": "code",
   "execution_count": 5,
   "id": "bb111ed1",
   "metadata": {},
   "outputs": [
    {
     "name": "stdout",
     "output_type": "stream",
     "text": [
      "Length of fragment ion list that is potentially colliding (single AA + mod): 1720\n"
     ]
    }
   ],
   "source": [
    "print(f\"Length of fragment ion list that is potentially colliding (single AA + mod): {len(list_collision_possibility)}\")"
   ]
  },
  {
   "cell_type": "code",
   "execution_count": null,
   "id": "f16fdbb1",
   "metadata": {
    "scrolled": true
   },
   "outputs": [],
   "source": [
    "# Repeat for diamino acids, so combinations of two amino acids and their modifications\n",
    "# TODO more general code where the number of amino acids is simply defined\n",
    "for aa1, aa2 in combinations(std_aa_mass.keys(), 2):\n",
    "    try:\n",
    "        aa_mods1 = aa_to_modifications[aa1]\n",
    "        aa_mods1.append([\"\",\"\",0,\"NoMod\"])\n",
    "    except KeyError:\n",
    "        print(f\"Unable to analyze amino acid: {aa1}, no modifications found in unimod\")\n",
    "        continue\n",
    "    try:\n",
    "        aa_mods2 = aa_to_modifications[aa2]\n",
    "        aa_mods2.append([\"\",\"\",0,\"NoMod\"])\n",
    "    except KeyError:\n",
    "        print(f\"Unable to analyze amino acid: {aa2}, no modifications found in unimod\")\n",
    "        continue\n",
    "        \n",
    "    for modification1 in aa_mods1:\n",
    "        for modification2 in aa_mods2:\n",
    "            if modification1[3] not in types_mod_include:\n",
    "                continue\n",
    "            if std_aa_mass[aa1]+modification1[2] < 0.0:\n",
    "                continue\n",
    "            \n",
    "            if modification2[3] not in types_mod_include:\n",
    "                continue\n",
    "            if std_aa_mass[aa2]+modification2[2] < 0.0:\n",
    "                continue\n",
    "\n",
    "            if modification1[3] == \"NoMod\" and modification2[3] == \"NoMod\":\n",
    "                list_collision_possibility.append([f\"{aa1}{aa2}\",std_aa_mass[aa]+modification[2]])\n",
    "            elif modification1[3] == \"NoMod\":\n",
    "                list_collision_possibility.append([f\"{aa1}{aa2}[UNIMOD:{modification2[0]}]\",\n",
    "                                                   std_aa_mass[aa1]+modification1[2]+std_aa_mass[aa2]+modification2[2]])\n",
    "            elif modification2[3] == \"NoMod\":\n",
    "                list_collision_possibility.append([f\"{aa1}[UNIMOD:{modification1[0]}]{aa2}\",\n",
    "                                                   std_aa_mass[aa1]+modification1[2]+std_aa_mass[aa2]+modification2[2]])\n",
    "            else:\n",
    "                list_collision_possibility.append([f\"{aa1}[UNIMOD:{modification1[0]}]{aa2}[UNIMOD:{modification2[0]}]\",\n",
    "                                                   std_aa_mass[aa1]+modification1[2]+std_aa_mass[aa2]+modification2[2]])\n"
   ]
  },
  {
   "cell_type": "code",
   "execution_count": null,
   "id": "e81af5f7",
   "metadata": {},
   "outputs": [],
   "source": [
    "print(f\"Length of fragment ion list that is potentially colliding (single AA + diamino + mod): {len(list_collision_possibility)}\")"
   ]
  },
  {
   "cell_type": "code",
   "execution_count": 6,
   "id": "b00a92d2",
   "metadata": {},
   "outputs": [],
   "source": [
    "# Presort the list of potential fragment ions that could collide (makes it slightly faster)\n",
    "list_collision_possibility = sorted(list_collision_possibility, key=lambda x:x[1])"
   ]
  },
  {
   "cell_type": "code",
   "execution_count": 7,
   "id": "1e226c1c",
   "metadata": {},
   "outputs": [
    {
     "name": "stderr",
     "output_type": "stream",
     "text": [
      "100%|████████████████████████████████████████████████████████████████████████████████████████████████████████████████████████████████████████████████████████████████████████████████████████████████████████████████████████████████████████████| 1720/1720 [00:00<00:00, 102055.52it/s]\n"
     ]
    }
   ],
   "source": [
    "# Define tolerance for colliding\n",
    "tolerance_pos = 0.05\n",
    "tolerance_neg = 0.05\n",
    "\n",
    "dict_collission = {}\n",
    "\n",
    "# Iterate over sorted list of all fragment ions\n",
    "for idx,fragment in enumerate(tqdm(list_collision_possibility)):\n",
    "    # Go up in the list of fragment ion masses until it goes over the tolerance value\n",
    "    for diff_candidate in list_collision_possibility[idx+1:]:\n",
    "        if diff_candidate[0] == fragment[0]:\n",
    "            continue\n",
    "        if diff_candidate[1]-fragment[1] > tolerance_pos:\n",
    "            break\n",
    "            \n",
    "        dict_collission[f\"{fragment[0]}->{diff_candidate[0]}\"] = list(chain(*[fragment,diff_candidate]))\n",
    "    \n",
    "    # Go down in the list of fragment ion masses until it goes over the tolerance value\n",
    "    for diff_candidate in list_collision_possibility[:idx+1][::-1]:\n",
    "        if diff_candidate[0] == fragment[0]:\n",
    "            continue\n",
    "        if fragment[1]-diff_candidate[1] > tolerance_neg:\n",
    "            break\n",
    "            \n",
    "        dict_collission[f\"{fragment[0]}->{diff_candidate[0]}\"] = list(chain(*[fragment,diff_candidate]))"
   ]
  },
  {
   "cell_type": "code",
   "execution_count": 8,
   "id": "99d0c0c9",
   "metadata": {},
   "outputs": [],
   "source": [
    "df_collision = pd.DataFrame(dict_collission).T\n",
    "df_collision.columns = [\"Fragment_selected\",\"Monoisotopic_mass_fragment\",\"Fragment_collision\",\"Monoisotopic_mass_collision\"]"
   ]
  },
  {
   "cell_type": "code",
   "execution_count": 9,
   "id": "4d15d1c0",
   "metadata": {},
   "outputs": [
    {
     "data": {
      "text/html": [
       "<div>\n",
       "<style scoped>\n",
       "    .dataframe tbody tr th:only-of-type {\n",
       "        vertical-align: middle;\n",
       "    }\n",
       "\n",
       "    .dataframe tbody tr th {\n",
       "        vertical-align: top;\n",
       "    }\n",
       "\n",
       "    .dataframe thead th {\n",
       "        text-align: right;\n",
       "    }\n",
       "</style>\n",
       "<table border=\"1\" class=\"dataframe\">\n",
       "  <thead>\n",
       "    <tr style=\"text-align: right;\">\n",
       "      <th></th>\n",
       "      <th>Fragment_selected</th>\n",
       "      <th>Monoisotopic_mass_fragment</th>\n",
       "      <th>Fragment_collision</th>\n",
       "      <th>Monoisotopic_mass_collision</th>\n",
       "    </tr>\n",
       "  </thead>\n",
       "  <tbody>\n",
       "    <tr>\n",
       "      <th>count</th>\n",
       "      <td>2004</td>\n",
       "      <td>2004.000000</td>\n",
       "      <td>2004</td>\n",
       "      <td>2004.000000</td>\n",
       "    </tr>\n",
       "    <tr>\n",
       "      <th>unique</th>\n",
       "      <td>900</td>\n",
       "      <td>841.000000</td>\n",
       "      <td>900</td>\n",
       "      <td>841.000000</td>\n",
       "    </tr>\n",
       "    <tr>\n",
       "      <th>top</th>\n",
       "      <td>S[UNIMOD:58]</td>\n",
       "      <td>144.053494</td>\n",
       "      <td>K[UNIMOD:381]</td>\n",
       "      <td>195.029661</td>\n",
       "    </tr>\n",
       "    <tr>\n",
       "      <th>freq</th>\n",
       "      <td>7</td>\n",
       "      <td>15.000000</td>\n",
       "      <td>7</td>\n",
       "      <td>15.000000</td>\n",
       "    </tr>\n",
       "  </tbody>\n",
       "</table>\n",
       "</div>"
      ],
      "text/plain": [
       "       Fragment_selected  Monoisotopic_mass_fragment Fragment_collision  \\\n",
       "count               2004                 2004.000000               2004   \n",
       "unique               900                  841.000000                900   \n",
       "top         S[UNIMOD:58]                  144.053494      K[UNIMOD:381]   \n",
       "freq                   7                   15.000000                  7   \n",
       "\n",
       "        Monoisotopic_mass_collision  \n",
       "count                   2004.000000  \n",
       "unique                   841.000000  \n",
       "top                      195.029661  \n",
       "freq                      15.000000  "
      ]
     },
     "execution_count": 9,
     "metadata": {},
     "output_type": "execute_result"
    }
   ],
   "source": [
    "df_collision.describe()"
   ]
  },
  {
   "cell_type": "code",
   "execution_count": 11,
   "id": "cd7eba3e",
   "metadata": {},
   "outputs": [],
   "source": [
    "df_collision.to_csv(\"single_aa_modifications_collision.csv\")"
   ]
  },
  {
   "cell_type": "code",
   "execution_count": null,
   "id": "ae3e3629",
   "metadata": {},
   "outputs": [],
   "source": []
  }
 ],
 "metadata": {
  "kernelspec": {
   "display_name": "Python 3 (ipykernel)",
   "language": "python",
   "name": "python3"
  },
  "language_info": {
   "codemirror_mode": {
    "name": "ipython",
    "version": 3
   },
   "file_extension": ".py",
   "mimetype": "text/x-python",
   "name": "python",
   "nbconvert_exporter": "python",
   "pygments_lexer": "ipython3",
   "version": "3.9.7"
  }
 },
 "nbformat": 4,
 "nbformat_minor": 5
}
